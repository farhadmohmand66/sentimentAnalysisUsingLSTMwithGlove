{
 "cells": [
  {
   "attachments": {},
   "cell_type": "markdown",
   "metadata": {},
   "source": [
    "Sentiment Analysis using LSTM with pretrained GloVe model on custome dataset"
   ]
  },
  {
   "cell_type": "code",
   "execution_count": 402,
   "metadata": {},
   "outputs": [],
   "source": [
    "import numpy as np\n",
    "import matplotlib.pyplot as plt\n",
    "import seaborn as sns\n",
    "import pandas as pd"
   ]
  },
  {
   "cell_type": "code",
   "execution_count": 403,
   "metadata": {},
   "outputs": [],
   "source": [
    "pashtoText= pd.read_csv('PashtoCorpusUpdated.csv')"
   ]
  },
  {
   "cell_type": "code",
   "execution_count": 404,
   "metadata": {},
   "outputs": [
    {
     "data": {
      "text/html": [
       "<div>\n",
       "<style scoped>\n",
       "    .dataframe tbody tr th:only-of-type {\n",
       "        vertical-align: middle;\n",
       "    }\n",
       "\n",
       "    .dataframe tbody tr th {\n",
       "        vertical-align: top;\n",
       "    }\n",
       "\n",
       "    .dataframe thead th {\n",
       "        text-align: right;\n",
       "    }\n",
       "</style>\n",
       "<table border=\"1\" class=\"dataframe\">\n",
       "  <thead>\n",
       "    <tr style=\"text-align: right;\">\n",
       "      <th></th>\n",
       "      <th>Id</th>\n",
       "      <th>Source</th>\n",
       "      <th>Topic</th>\n",
       "      <th>PashtoText</th>\n",
       "      <th>EnglishtTranslation</th>\n",
       "      <th>AnnotatorOne</th>\n",
       "      <th>AnnotatorTwo</th>\n",
       "    </tr>\n",
       "  </thead>\n",
       "  <tbody>\n",
       "    <tr>\n",
       "      <th>0</th>\n",
       "      <td>1</td>\n",
       "      <td>https://www.facebook.com/167959249906191/posts...</td>\n",
       "      <td>افغان ولسمشر محمد اشرف غني ویلي، په اوسنیو شرا...</td>\n",
       "      <td>د لیوني څخه پوښتنه د یو لیونی څخه یو چا پوښتنه...</td>\n",
       "      <td>Question from a madman Someone asked that grie...</td>\n",
       "      <td>Negative</td>\n",
       "      <td>Negative</td>\n",
       "    </tr>\n",
       "    <tr>\n",
       "      <th>1</th>\n",
       "      <td>2</td>\n",
       "      <td>NaN</td>\n",
       "      <td>Afghan President Mohammad Ashraf Ghani said th...</td>\n",
       "      <td>جهالت د نابالغه ماشومانو  په باچا پورې خندل نه...</td>\n",
       "      <td>Ignorance of immature children ,If you don't l...</td>\n",
       "      <td>Positive</td>\n",
       "      <td>Positive</td>\n",
       "    </tr>\n",
       "    <tr>\n",
       "      <th>2</th>\n",
       "      <td>3</td>\n",
       "      <td>NaN</td>\n",
       "      <td>NaN</td>\n",
       "      <td>ماته خو بی خوبه  خکاری نور نه پو هیږم</td>\n",
       "      <td>I like it but I don't know anymore</td>\n",
       "      <td>Positive</td>\n",
       "      <td>Positive</td>\n",
       "    </tr>\n",
       "    <tr>\n",
       "      <th>3</th>\n",
       "      <td>4</td>\n",
       "      <td>NaN</td>\n",
       "      <td>NaN</td>\n",
       "      <td>عنى ځان لپاره عمحوار دى نه د وطن حلکو لپاره دا...</td>\n",
       "      <td>Ghani is a leader for himself and not for the ...</td>\n",
       "      <td>Negative</td>\n",
       "      <td>Negative</td>\n",
       "    </tr>\n",
       "    <tr>\n",
       "      <th>4</th>\n",
       "      <td>5</td>\n",
       "      <td>NaN</td>\n",
       "      <td>NaN</td>\n",
       "      <td>خپله سه بلا وهلي یی ړوزي خو نه دي چي کوي یی</td>\n",
       "      <td>what happened with you. This is not joking tha...</td>\n",
       "      <td>Negative</td>\n",
       "      <td>Negative</td>\n",
       "    </tr>\n",
       "  </tbody>\n",
       "</table>\n",
       "</div>"
      ],
      "text/plain": [
       "   Id                                             Source  \\\n",
       "0   1  https://www.facebook.com/167959249906191/posts...   \n",
       "1   2                                                NaN   \n",
       "2   3                                                NaN   \n",
       "3   4                                                NaN   \n",
       "4   5                                                NaN   \n",
       "\n",
       "                                               Topic  \\\n",
       "0  افغان ولسمشر محمد اشرف غني ویلي، په اوسنیو شرا...   \n",
       "1  Afghan President Mohammad Ashraf Ghani said th...   \n",
       "2                                                NaN   \n",
       "3                                                NaN   \n",
       "4                                                NaN   \n",
       "\n",
       "                                          PashtoText  \\\n",
       "0  د لیوني څخه پوښتنه د یو لیونی څخه یو چا پوښتنه...   \n",
       "1  جهالت د نابالغه ماشومانو  په باچا پورې خندل نه...   \n",
       "2              ماته خو بی خوبه  خکاری نور نه پو هیږم   \n",
       "3  عنى ځان لپاره عمحوار دى نه د وطن حلکو لپاره دا...   \n",
       "4        خپله سه بلا وهلي یی ړوزي خو نه دي چي کوي یی   \n",
       "\n",
       "                                 EnglishtTranslation AnnotatorOne AnnotatorTwo  \n",
       "0  Question from a madman Someone asked that grie...     Negative     Negative  \n",
       "1  Ignorance of immature children ,If you don't l...     Positive     Positive  \n",
       "2                 I like it but I don't know anymore     Positive     Positive  \n",
       "3  Ghani is a leader for himself and not for the ...     Negative     Negative  \n",
       "4  what happened with you. This is not joking tha...     Negative     Negative  "
      ]
     },
     "execution_count": 404,
     "metadata": {},
     "output_type": "execute_result"
    }
   ],
   "source": [
    "pashtoText.head()"
   ]
  },
  {
   "cell_type": "code",
   "execution_count": 405,
   "metadata": {},
   "outputs": [],
   "source": [
    "pashtoText.drop([\"Id\",\"Source\", \"Topic\", \"PashtoText\", \"AnnotatorTwo\"], axis=1, inplace=True)"
   ]
  },
  {
   "cell_type": "code",
   "execution_count": 406,
   "metadata": {},
   "outputs": [
    {
     "name": "stdout",
     "output_type": "stream",
     "text": [
      "<class 'pandas.core.frame.DataFrame'>\n",
      "RangeIndex: 600 entries, 0 to 599\n",
      "Data columns (total 2 columns):\n",
      " #   Column               Non-Null Count  Dtype \n",
      "---  ------               --------------  ----- \n",
      " 0   EnglishtTranslation  600 non-null    object\n",
      " 1   AnnotatorOne         600 non-null    object\n",
      "dtypes: object(2)\n",
      "memory usage: 9.5+ KB\n"
     ]
    }
   ],
   "source": [
    "pashtoText.info()"
   ]
  },
  {
   "cell_type": "code",
   "execution_count": 407,
   "metadata": {},
   "outputs": [
    {
     "data": {
      "text/html": [
       "<div>\n",
       "<style scoped>\n",
       "    .dataframe tbody tr th:only-of-type {\n",
       "        vertical-align: middle;\n",
       "    }\n",
       "\n",
       "    .dataframe tbody tr th {\n",
       "        vertical-align: top;\n",
       "    }\n",
       "\n",
       "    .dataframe thead th {\n",
       "        text-align: right;\n",
       "    }\n",
       "</style>\n",
       "<table border=\"1\" class=\"dataframe\">\n",
       "  <thead>\n",
       "    <tr style=\"text-align: right;\">\n",
       "      <th></th>\n",
       "      <th>EnglishtTranslation</th>\n",
       "      <th>AnnotatorOne</th>\n",
       "    </tr>\n",
       "  </thead>\n",
       "  <tbody>\n",
       "    <tr>\n",
       "      <th>0</th>\n",
       "      <td>Question from a madman Someone asked that grie...</td>\n",
       "      <td>0</td>\n",
       "    </tr>\n",
       "    <tr>\n",
       "      <th>1</th>\n",
       "      <td>Ignorance of immature children ,If you don't l...</td>\n",
       "      <td>1</td>\n",
       "    </tr>\n",
       "    <tr>\n",
       "      <th>2</th>\n",
       "      <td>I like it but I don't know anymore</td>\n",
       "      <td>1</td>\n",
       "    </tr>\n",
       "    <tr>\n",
       "      <th>3</th>\n",
       "      <td>Ghani is a leader for himself and not for the ...</td>\n",
       "      <td>0</td>\n",
       "    </tr>\n",
       "    <tr>\n",
       "      <th>4</th>\n",
       "      <td>what happened with you. This is not joking tha...</td>\n",
       "      <td>0</td>\n",
       "    </tr>\n",
       "  </tbody>\n",
       "</table>\n",
       "</div>"
      ],
      "text/plain": [
       "                                 EnglishtTranslation  AnnotatorOne\n",
       "0  Question from a madman Someone asked that grie...             0\n",
       "1  Ignorance of immature children ,If you don't l...             1\n",
       "2                 I like it but I don't know anymore             1\n",
       "3  Ghani is a leader for himself and not for the ...             0\n",
       "4  what happened with you. This is not joking tha...             0"
      ]
     },
     "execution_count": 407,
     "metadata": {},
     "output_type": "execute_result"
    }
   ],
   "source": [
    "# # covert string into numerical of reviewe attr\n",
    "labels = {\"Positive\": 1, \"Negative\": 0}\n",
    "pashtoText['AnnotatorOne'] = pashtoText['AnnotatorOne'].map(labels)\n",
    "pashtoText.head()"
   ]
  },
  {
   "cell_type": "code",
   "execution_count": 409,
   "metadata": {},
   "outputs": [],
   "source": [
    "from nltk.corpus import stopwords # to remove the stopwrods\n",
    "from nltk.stem.porter import PorterStemmer # steam to root word every\n",
    "from nltk import sent_tokenize\n",
    "from nltk.tokenize import word_tokenize\n",
    "import re\n",
    "steamer = PorterStemmer()"
   ]
  },
  {
   "cell_type": "code",
   "execution_count": 410,
   "metadata": {},
   "outputs": [],
   "source": [
    "# clean the text data\n",
    "def preprocessText(text):\n",
    "    # remove non-alphabetic characters\n",
    "    text = re.sub('[^A-Za-z]', ' ', text)\n",
    "    # convert to lowercase\n",
    "    text = text.lower()\n",
    "    # remove stopwords\n",
    "    stopWords = set(stopwords.words('english'))\n",
    "    words = text.split()\n",
    "    words = [word for word in words if not word in stopWords]\n",
    "    # join the words back into a string\n",
    "    text = ' '.join(words)\n",
    "    return text"
   ]
  },
  {
   "cell_type": "code",
   "execution_count": 411,
   "metadata": {},
   "outputs": [],
   "source": [
    "x = []\n",
    "words = list(pashtoText['EnglishtTranslation'])\n",
    "for i in words:\n",
    "    x.append(preprocessText(i))"
   ]
  },
  {
   "cell_type": "code",
   "execution_count": 412,
   "metadata": {},
   "outputs": [
    {
     "data": {
      "text/plain": [
       "['question madman someone asked grief good happy important thing pots food said madman',\n",
       " 'ignorance immature children laugh king ghani pride ghani leader ghani mourner country',\n",
       " 'like know anymore']"
      ]
     },
     "execution_count": 412,
     "metadata": {},
     "output_type": "execute_result"
    }
   ],
   "source": [
    "x[:3]"
   ]
  },
  {
   "cell_type": "code",
   "execution_count": 413,
   "metadata": {},
   "outputs": [
    {
     "data": {
      "text/plain": [
       "0      0\n",
       "1      1\n",
       "2      1\n",
       "3      0\n",
       "4      0\n",
       "      ..\n",
       "595    0\n",
       "596    1\n",
       "597    1\n",
       "598    1\n",
       "599    1\n",
       "Name: AnnotatorOne, Length: 600, dtype: int64"
      ]
     },
     "execution_count": 413,
     "metadata": {},
     "output_type": "execute_result"
    }
   ],
   "source": [
    "y = pashtoText['AnnotatorOne']\n",
    "y"
   ]
  },
  {
   "cell_type": "code",
   "execution_count": 414,
   "metadata": {},
   "outputs": [],
   "source": [
    "from sklearn.model_selection import train_test_split\n",
    "# Split the dataset into training and testing set\n",
    "xTrain, xTest, yTrain, yTest = train_test_split(x, y, test_size = 0.2, random_state = 42)"
   ]
  },
  {
   "cell_type": "code",
   "execution_count": 415,
   "metadata": {},
   "outputs": [],
   "source": [
    "from keras.preprocessing.text import Tokenizer\n",
    "# Tokenization\n",
    "tokenizer = Tokenizer()\n",
    "tokenizer.fit_on_texts(xTrain)"
   ]
  },
  {
   "cell_type": "code",
   "execution_count": 416,
   "metadata": {},
   "outputs": [],
   "source": [
    "xTrain = tokenizer.texts_to_sequences(xTrain)\n",
    "xTest = tokenizer.texts_to_sequences(xTest)"
   ]
  },
  {
   "cell_type": "code",
   "execution_count": 417,
   "metadata": {},
   "outputs": [
    {
     "data": {
      "text/plain": [
       "1079"
      ]
     },
     "execution_count": 417,
     "metadata": {},
     "output_type": "execute_result"
    }
   ],
   "source": [
    "# Adding 1 to store dimensions for words for which no pretrained word embeddings exist\n",
    "\n",
    "vocabLen = len(tokenizer.word_index) + 1\n",
    "vocabLen "
   ]
  },
  {
   "cell_type": "code",
   "execution_count": 418,
   "metadata": {},
   "outputs": [],
   "source": [
    "from tensorflow.keras.preprocessing.sequence import pad_sequences\n",
    "max_len = 50\n",
    "xTrain = pad_sequences(xTrain, padding='post', maxlen=max_len)\n",
    "xTest = pad_sequences(xTest, padding='post', maxlen=max_len)"
   ]
  },
  {
   "cell_type": "code",
   "execution_count": null,
   "metadata": {},
   "outputs": [],
   "source": [
    "# tokenizer.word_index.items()"
   ]
  },
  {
   "cell_type": "code",
   "execution_count": null,
   "metadata": {},
   "outputs": [],
   "source": [
    "# xTrain"
   ]
  },
  {
   "cell_type": "code",
   "execution_count": 419,
   "metadata": {},
   "outputs": [],
   "source": [
    "# Load GloVe word embeddings and create an Embeddings Dictionary\n",
    "\n",
    "from numpy import asarray\n",
    "from numpy import zeros\n",
    "\n",
    "embeddings_dictionary = dict()\n",
    "glove_file = open('glove.6B.50d.txt', encoding=\"utf8\")\n",
    "\n",
    "for line in glove_file:\n",
    "    records = line.split()\n",
    "    word = records[0]\n",
    "    vector_dimensions = asarray(records[1:], dtype='float32')\n",
    "    embeddings_dictionary [word] = vector_dimensions\n",
    "glove_file.close()"
   ]
  },
  {
   "cell_type": "code",
   "execution_count": 420,
   "metadata": {},
   "outputs": [
    {
     "data": {
      "text/plain": [
       "400000"
      ]
     },
     "execution_count": 420,
     "metadata": {},
     "output_type": "execute_result"
    }
   ],
   "source": [
    "len(embeddings_dictionary)"
   ]
  },
  {
   "cell_type": "code",
   "execution_count": 421,
   "metadata": {},
   "outputs": [],
   "source": [
    "# Create Embedding Matrix having 10 columns \n",
    "# Containing 50-dimensional GloVe word embeddings for all words in our corpus.\n",
    "\n",
    "embedding_matrix = zeros((vocabLen, 50))\n",
    "for word, index in tokenizer.word_index.items():\n",
    "    embedding_vector = embeddings_dictionary.get(word)\n",
    "    if embedding_vector is not None:\n",
    "        embedding_matrix[index] = embedding_vector"
   ]
  },
  {
   "cell_type": "code",
   "execution_count": 422,
   "metadata": {},
   "outputs": [
    {
     "data": {
      "text/plain": [
       "(1079, 50)"
      ]
     },
     "execution_count": 422,
     "metadata": {},
     "output_type": "execute_result"
    }
   ],
   "source": [
    "embedding_matrix.shape"
   ]
  },
  {
   "cell_type": "code",
   "execution_count": 423,
   "metadata": {},
   "outputs": [],
   "source": [
    "import tensorflow as tf\n",
    "from tensorflow.keras.models import Sequential\n",
    "from tensorflow.keras.layers import Embedding, LSTM, Dense, Dropout, Bidirectional, Flatten\n",
    "from tensorflow.keras.optimizers import Adam"
   ]
  },
  {
   "attachments": {},
   "cell_type": "markdown",
   "metadata": {},
   "source": [
    "<!-- for regularization \n",
    "lstmModel.add(LSTM(64, activation='tanh', input_dim=32, kernel_regularizer = tf.keras.regularizers.l1(0.001)))\n",
    " -->"
   ]
  },
  {
   "cell_type": "code",
   "execution_count": 424,
   "metadata": {},
   "outputs": [],
   "source": [
    "lstmModel = Sequential()\n",
    "embeddedLayer = Embedding(vocabLen, 50, weights=[embedding_matrix], input_length=max_len , trainable=False)\n",
    "lstmModel.add(embeddedLayer)\n",
    "lstmModel.add(LSTM(128))\n",
    "lstmModel.add(Dropout(0.5))\n",
    "lstmModel.add(Dense(1, activation='sigmoid'))"
   ]
  },
  {
   "cell_type": "code",
   "execution_count": null,
   "metadata": {},
   "outputs": [],
   "source": [
    "# Model Architecture\n",
    "lstmModel = Sequential()\n",
    "embeddedLayer = Embedding(vocabLen, 50, weights=[embedding_matrix], input_length=max_len , trainable=False)\n",
    "lstmModel.add(embeddedLayer)\n",
    "lstmModel.add(Bidirectional(LSTM(128, return_sequences=True)))\n",
    "lstmModel.add(Dropout(0.5))\n",
    "lstmModel.add(Dense(2, activation='sigmoid'))"
   ]
  },
  {
   "cell_type": "code",
   "execution_count": 425,
   "metadata": {},
   "outputs": [
    {
     "name": "stdout",
     "output_type": "stream",
     "text": [
      "Model: \"sequential_22\"\n",
      "_________________________________________________________________\n",
      " Layer (type)                Output Shape              Param #   \n",
      "=================================================================\n",
      " embedding_22 (Embedding)    (None, 50, 50)            53950     \n",
      "                                                                 \n",
      " lstm_29 (LSTM)              (None, 128)               91648     \n",
      "                                                                 \n",
      " dropout_28 (Dropout)        (None, 128)               0         \n",
      "                                                                 \n",
      " dense_20 (Dense)            (None, 1)                 129       \n",
      "                                                                 \n",
      "=================================================================\n",
      "Total params: 145,727\n",
      "Trainable params: 91,777\n",
      "Non-trainable params: 53,950\n",
      "_________________________________________________________________\n"
     ]
    }
   ],
   "source": [
    "# Define the optimizer with the learning rate\n",
    "optimizer = Adam(learning_rate=0.001)\n",
    "lstmModel.compile(optimizer = 'Adam', loss='binary_crossentropy', metrics=['accuracy'])\n",
    "lstmModel.summary()"
   ]
  },
  {
   "cell_type": "code",
   "execution_count": 426,
   "metadata": {},
   "outputs": [],
   "source": [
    "callback = tf.keras.callbacks.EarlyStopping(\n",
    "    monitor=\"val_loss\",\n",
    "    min_delta=0.001,\n",
    "    patience= 4,\n",
    "    verbose=0,\n",
    "    mode=\"auto\",\n",
    "    baseline=None,\n",
    "    restore_best_weights=False,\n",
    ")"
   ]
  },
  {
   "cell_type": "code",
   "execution_count": 427,
   "metadata": {},
   "outputs": [
    {
     "name": "stdout",
     "output_type": "stream",
     "text": [
      "Epoch 1/15\n",
      "5/5 [==============================] - 13s 570ms/step - loss: 0.6906 - accuracy: 0.5911 - val_loss: 0.6817 - val_accuracy: 0.6354\n",
      "Epoch 2/15\n",
      "5/5 [==============================] - 1s 192ms/step - loss: 0.6775 - accuracy: 0.6094 - val_loss: 0.6589 - val_accuracy: 0.6354\n",
      "Epoch 3/15\n",
      "5/5 [==============================] - 1s 201ms/step - loss: 0.6738 - accuracy: 0.6094 - val_loss: 0.6573 - val_accuracy: 0.6354\n",
      "Epoch 4/15\n",
      "5/5 [==============================] - 1s 190ms/step - loss: 0.6672 - accuracy: 0.6094 - val_loss: 0.6481 - val_accuracy: 0.6354\n",
      "Epoch 5/15\n",
      "5/5 [==============================] - 1s 178ms/step - loss: 0.6458 - accuracy: 0.6198 - val_loss: 0.6451 - val_accuracy: 0.6354\n",
      "Epoch 6/15\n",
      "5/5 [==============================] - 1s 214ms/step - loss: 0.6176 - accuracy: 0.6510 - val_loss: 0.6182 - val_accuracy: 0.6667\n",
      "Epoch 7/15\n",
      "5/5 [==============================] - 1s 174ms/step - loss: 0.5193 - accuracy: 0.7422 - val_loss: 0.6277 - val_accuracy: 0.7500\n",
      "Epoch 8/15\n",
      "5/5 [==============================] - 1s 167ms/step - loss: 0.4847 - accuracy: 0.7786 - val_loss: 0.5571 - val_accuracy: 0.7188\n",
      "Epoch 9/15\n",
      "5/5 [==============================] - 1s 168ms/step - loss: 0.4771 - accuracy: 0.7917 - val_loss: 0.5516 - val_accuracy: 0.7812\n",
      "Epoch 10/15\n",
      "5/5 [==============================] - 1s 186ms/step - loss: 0.4440 - accuracy: 0.7943 - val_loss: 0.5548 - val_accuracy: 0.7500\n",
      "Epoch 11/15\n",
      "5/5 [==============================] - 1s 191ms/step - loss: 0.4223 - accuracy: 0.8151 - val_loss: 0.5761 - val_accuracy: 0.7708\n",
      "Epoch 12/15\n",
      "5/5 [==============================] - 1s 279ms/step - loss: 0.3946 - accuracy: 0.8255 - val_loss: 0.5392 - val_accuracy: 0.7708\n",
      "Epoch 13/15\n",
      "5/5 [==============================] - 1s 316ms/step - loss: 0.3712 - accuracy: 0.8620 - val_loss: 0.5328 - val_accuracy: 0.8021\n",
      "Epoch 14/15\n",
      "5/5 [==============================] - 1s 275ms/step - loss: 0.3957 - accuracy: 0.8333 - val_loss: 0.4746 - val_accuracy: 0.7917\n",
      "Epoch 15/15\n",
      "5/5 [==============================] - 1s 221ms/step - loss: 0.3653 - accuracy: 0.8672 - val_loss: 0.5200 - val_accuracy: 0.7917\n"
     ]
    }
   ],
   "source": [
    "history = lstmModel.fit(xTrain, yTrain, epochs=15, batch_size=90, callbacks=[callback], validation_split = 0.2)"
   ]
  },
  {
   "cell_type": "code",
   "execution_count": 428,
   "metadata": {},
   "outputs": [
    {
     "data": {
      "text/plain": [
       "15"
      ]
     },
     "execution_count": 428,
     "metadata": {},
     "output_type": "execute_result"
    }
   ],
   "source": [
    "len(history.history['loss']) # # Only 4 epochs are run."
   ]
  },
  {
   "cell_type": "code",
   "execution_count": 430,
   "metadata": {},
   "outputs": [
    {
     "name": "stdout",
     "output_type": "stream",
     "text": [
      "4/4 [==============================] - 1s 112ms/step - loss: 0.7145 - accuracy: 0.7250\n",
      "Test loss: 0.7144831418991089\n",
      "Test accuracy: 0.7250000238418579\n"
     ]
    }
   ],
   "source": [
    "# Evaluate the model\n",
    "loss, accuracy = model.evaluate(xTest, yTest)\n",
    "print(f'Test loss: {loss}')\n",
    "print(f'Test accuracy: {accuracy}')"
   ]
  },
  {
   "cell_type": "code",
   "execution_count": 431,
   "metadata": {},
   "outputs": [
    {
     "name": "stdout",
     "output_type": "stream",
     "text": [
      "4/4 [==============================] - 0s 38ms/step\n",
      "              precision    recall  f1-score   support\n",
      "\n",
      "           0       0.78      0.72      0.75        58\n",
      "           1       0.76      0.81      0.78        62\n",
      "\n",
      "    accuracy                           0.77       120\n",
      "   macro avg       0.77      0.77      0.77       120\n",
      "weighted avg       0.77      0.77      0.77       120\n",
      "\n",
      "[[42 16]\n",
      " [12 50]]\n"
     ]
    }
   ],
   "source": [
    "from sklearn.metrics import classification_report, confusion_matrix\n",
    "\n",
    "# make predictions on the testing set\n",
    "yPred = lstmModel.predict(xTest)\n",
    "yPred = [1 if p >= 0.5 else 0 for p in yPred]\n",
    "\n",
    "# generate classification report and confusion matrix\n",
    "print(classification_report(yTest, yPred))\n",
    "print(confusion_matrix(yTest, yPred))"
   ]
  },
  {
   "cell_type": "code",
   "execution_count": 432,
   "metadata": {},
   "outputs": [
    {
     "data": {
      "image/png": "[encoded data removed]",
      "text/plain": [
       "<Figure size 640x480 with 1 Axes>"
      ]
     },
     "metadata": {},
     "output_type": "display_data"
    }
   ],
   "source": [
    "plt.plot(history.history['loss'])\n",
    "plt.plot(history.history['val_loss'])\n",
    "plt.title('model loss')\n",
    "plt.ylabel('loss')\n",
    "plt.xlabel('epoch')\n",
    "plt.legend(['train','test'], loc='upper right')\n",
    "plt.show()"
   ]
  },
  {
   "cell_type": "code",
   "execution_count": 433,
   "metadata": {},
   "outputs": [
    {
     "data": {
      "image/png": "[encoded data removed]",
      "text/plain": [
       "<Figure size 640x480 with 1 Axes>"
      ]
     },
     "metadata": {},
     "output_type": "display_data"
    }
   ],
   "source": [
    "plt.plot(history.history['accuracy'])\n",
    "plt.plot(history.history['val_accuracy'])\n",
    "plt.title('model accuracy')\n",
    "plt.ylabel('accuracy')\n",
    "plt.xlabel('epoch')\n",
    "plt.legend(['train','test'], loc='upper left')\n",
    "plt.show()"
   ]
  },
  {
   "cell_type": "code",
   "execution_count": 441,
   "metadata": {},
   "outputs": [
    {
     "name": "stdout",
     "output_type": "stream",
     "text": [
      "1/1 [==============================] - 0s 52ms/step\n",
      " I love him: positive review\n"
     ]
    }
   ],
   "source": [
    "# assume your new sentence is stored in a variable called new_sentence\n",
    "new_sent = \"I love him\"\n",
    "\n",
    "# preprocess the text\n",
    "new_sentence = preprocessText(new_sent)\n",
    "\n",
    "# tokenize and pad the sequence\n",
    "new_sentence_seq = tokenizer.texts_to_sequences([new_sentence])\n",
    "new_sentence_padded = pad_sequences(new_sentence_seq, padding='post', maxlen=max_len)\n",
    "\n",
    "# make prediction\n",
    "prediction = lstmModel.predict(new_sentence_padded)[0][0]\n",
    "if prediction >= 0.5:\n",
    "    print(f\" {new_sent}: positive review\")\n",
    "else:\n",
    "    print(f\"{new_sent}: negative review\")\n"
   ]
  },
  {
   "cell_type": "code",
   "execution_count": null,
   "metadata": {},
   "outputs": [],
   "source": []
  }
 ],
 "metadata": {
  "kernelspec": {
   "display_name": "Python 3",
   "language": "python",
   "name": "python3"
  },
  "language_info": {
   "codemirror_mode": {
    "name": "ipython",
    "version": 3
   },
   "file_extension": ".py",
   "mimetype": "text/x-python",
   "name": "python",
   "nbconvert_exporter": "python",
   "pygments_lexer": "ipython3",
   "version": "3.9.1"
  },
  "orig_nbformat": 4,
  "vscode": {
   "interpreter": {
    "hash": "26de051ba29f2982a8de78e945f0abaf191376122a1563185a90213a26c5da77"
   }
  }
 },
 "nbformat": 4,
 "nbformat_minor": 2
}
